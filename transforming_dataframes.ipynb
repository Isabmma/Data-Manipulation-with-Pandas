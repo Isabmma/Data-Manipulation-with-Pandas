{
 "cells": [
  {
   "cell_type": "markdown",
   "metadata": {},
   "source": [
    "## Inspecting a DataFrame\n",
    "When you get a new DataFrame to work with, the first thing you need to do is explore it and see what it contains. There are several useful methods and attributes for this.\n",
    "<br><br>\n",
    "  <b>.head()</b> returns the first few rows (the “head” of the DataFrame).<br>\n",
    "  <b>.info()</b> shows information on each of the columns, such as the data type and number of missing values.<br>\n",
    "  <b>.shape</b> returns the number of rows and columns of the DataFrame.<br>\n",
    "  <b>.describe()</b> calculates a few summary statistics for each column.\n",
    "<br><br>\n",
    "homelessness is a DataFrame containing estimates of homelessness in each U.S. state in 2018. The individual column is the number of homeless individuals not part of a family with children. The family_members column is the number of homeless individuals part of a family with children. The state_pop column is the state's total population."
   ]
  },
  {
   "cell_type": "markdown",
   "metadata": {},
   "source": [
    "## Parts of a DataFrame\n",
    "\n",
    "To better understand DataFrame objects, it's useful to know that they consist of three components, stored as attributes:\n",
    "<br><br>\n",
    "  <b>.values</b>: A two-dimensional NumPy array of values.<br>\n",
    "  <b>.columns</b>: An index of columns: the column names.<br>\n",
    "  <b>.index</b>: An index for the rows: either row numbers or row names.\n",
    "<br><br>\n",
    "You can usually think of indexes as a list of strings or numbers, though the pandas Index data type allows for more sophisticated options. (These will be covered later in the course.)"
   ]
  },
  {
   "cell_type": "markdown",
   "metadata": {},
   "source": [
    "## Sorting rows\n",
    "\n",
    "Finding interesting bits of data in a DataFrame is often easier if you change the order of the rows. You can sort the rows by passing a column name to <b>.sort_values()</b>.\n",
    "<br><br>\n",
    "In cases where rows have the same value (this is common if you sort on a categorical variable), you may wish to break the ties by sorting on another column. You can sort on multiple columns in this way by passing a list of column names.\n",
    "<br><br>\n",
    "<b>Sort on … / Syntax </b><br>\n",
    "one column / df.sort_values(\"breed\") <br>\n",
    "multiple columns / df.sort_values([\"breed\", \"weight_kg\"])\n",
    "<br><br>\n",
    "By combining <b>.sort_values()</b> with <b>.head()</b>, you can answer questions in the form, \"What are the top cases where…?\"."
   ]
  },
  {
   "cell_type": "markdown",
   "metadata": {},
   "source": [
    "## Subsetting columns\n",
    "\n",
    "When working with data, you may not need all of the variables in your dataset. Square brackets ([]) can be used to select only the columns that matter to you in an order that makes sense to you. \n",
    "<br><br>\n",
    "To select only \"col_a\" of the DataFrame df, use:\n",
    "<br>\n",
    "df[\"col_a\"]\n",
    "<br><br>\n",
    "To select \"col_a\" and \"col_b\" of df, use:\n",
    "<br>\n",
    "df[[\"col_a\", \"col_b\"]]"
   ]
  },
  {
   "cell_type": "markdown",
   "metadata": {},
   "source": [
    "## Subsetting rows\n",
    "\n",
    "A large part of data science is about finding which bits of your dataset are interesting. One of the simplest techniques for this is to find a subset of rows that match some criteria. This is sometimes known as filtering rows or selecting rows.\n",
    "<br><br>\n",
    "There are many ways to subset a DataFrame, perhaps the most common is to use relational operators to return True or False for each row, then pass that inside square brackets.\n",
    "<br><br>\n",
    "dogs[dogs[\"height_cm\"] > 60]<br>\n",
    "dogs[dogs[\"color\"] == \"tan\"]<br>\n",
    "<br><br>\n",
    "You can filter for multiple conditions at once by using the \"bitwise and\" operator, &.<br>\n",
    "dogs[(dogs[\"height_cm\"] > 60) & (dogs[\"color\"] == \"tan\")]"
   ]
  },
  {
   "cell_type": "markdown",
   "metadata": {},
   "source": [
    "## Subsetting rows by categorical variables\n",
    "\n",
    "Subsetting data based on a categorical variable often involves using the \"or\" operator (|) to select rows from multiple categories. This can get tedious when you want all states in one of three different regions, for example. Instead, use the .isin() method, which will allow you to tackle this problem by writing one condition instead of three separate ones.\n",
    "<br><br>\n",
    "colors = [\"brown\", \"black\", \"tan\"]<br>\n",
    "condition = dogs[\"color\"].isin(colors)<br>\n",
    "dogs[condition]<br>"
   ]
  },
  {
   "cell_type": "markdown",
   "metadata": {},
   "source": [
    "## Adding new columns\n",
    "You aren't stuck with just the data you are given. Instead, you can add new columns to a DataFrame. This has many names, such as transforming, mutating, and feature engineering.\n",
    "<br><br>\n",
    "You can create new columns from scratch, but it is also common to derive them from other columns, for example, by adding columns together or by changing their units."
   ]
  }
 ],
 "metadata": {
  "kernelspec": {
   "display_name": "Python 3.10.7 64-bit",
   "language": "python",
   "name": "python3"
  },
  "language_info": {
   "name": "python",
   "version": "3.10.7"
  },
  "orig_nbformat": 4,
  "vscode": {
   "interpreter": {
    "hash": "396a487d0f9a1aeea6eec7e2661c1b70bd880358e710a503b71d50d0e4959784"
   }
  }
 },
 "nbformat": 4,
 "nbformat_minor": 2
}
